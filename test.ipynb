{
 "cells": [
  {
   "cell_type": "markdown",
   "metadata": {},
   "source": [
    "Import CSV Data and Pivot Header and Primary Column"
   ]
  },
  {
   "cell_type": "code",
   "execution_count": null,
   "metadata": {},
   "outputs": [],
   "source": [
    "import pandas as pd\n",
    "\n",
    "\n",
    "def import_csv(filename):\n",
    "    df = pd.read_csv(filename)\n",
    "    return df\n",
    "\n",
    "def df_ez_pivot(df):\n",
    "    index=df.iloc[:,0]\n",
    "    column=df.iloc[:,1]\n",
    "    pivot_frame = df.pivot(index=index, columns=column)\n",
    "    print(\"Your pivot table is \" + pivot_frame)\n",
    "    return pivot_frame\n",
    "\n",
    "filename = \"./sample_data/eurusdforex/eurusd_hour.csv\"\n",
    "df = import_csv(filename)\n",
    "pivot = df_ez_pivot(df)\n",
    "pivot"
   ]
  }
 ],
 "metadata": {
  "language_info": {
   "name": "python"
  }
 },
 "nbformat": 4,
 "nbformat_minor": 2
}
